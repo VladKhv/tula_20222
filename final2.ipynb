{
 "cells": [
  {
   "cell_type": "markdown",
   "id": "be87ac01",
   "metadata": {},
   "source": [
    "# Подключаем необходимые библиотеки"
   ]
  },
  {
   "cell_type": "code",
   "execution_count": 1,
   "id": "898efba0",
   "metadata": {},
   "outputs": [],
   "source": [
    "import pandas as pd\n",
    "import numpy as np"
   ]
  },
  {
   "cell_type": "markdown",
   "id": "ca25a653",
   "metadata": {},
   "source": [
    "# Загрузка данных"
   ]
  },
  {
   "cell_type": "code",
   "execution_count": 2,
   "id": "824fd6fa",
   "metadata": {},
   "outputs": [],
   "source": [
    "train = pd.read_csv(\n",
    "    'train_dataset_train.csv', \n",
    "    sep = ';',\n",
    "    dtype = {\n",
    "        'PATIENT_SEX': str, \n",
    "        'MKB_CODE': str, \n",
    "        'ADRES': str, \n",
    "        'VISIT_MONTH_YEAR': str, \n",
    "        'AGE_CATEGORY': str, \n",
    "        'PATIENT_ID_COUNT': int\n",
    "    }\n",
    ")\n",
    "test = pd.read_csv(\n",
    "    'test_dataset_test.csv', \n",
    "    sep = ';',\n",
    "    dtype = {\n",
    "        'PATIENT_SEX': str, \n",
    "        'MKB_CODE': str, \n",
    "        'ADRES': str, \n",
    "        'VISIT_MONTH_YEAR': str, \n",
    "        'AGE_CATEGORY': str, \n",
    "        'PATIENT_ID_COUNT': int\n",
    "    }\n",
    ")"
   ]
  },
  {
   "cell_type": "markdown",
   "id": "09784b56",
   "metadata": {},
   "source": [
    "# Слияние"
   ]
  },
  {
   "cell_type": "code",
   "execution_count": 3,
   "id": "745b33fe",
   "metadata": {},
   "outputs": [],
   "source": [
    "test = test.merge(        \n",
    "        train[train['VISIT_MONTH_YEAR'].isin(['03.22'])].groupby(\n",
    "            ['PATIENT_SEX', 'MKB_CODE', 'ADRES', 'AGE_CATEGORY'], as_index = False)['PATIENT_ID_COUNT'].mean(),    \n",
    "        on = ['PATIENT_SEX', 'MKB_CODE', 'ADRES', 'AGE_CATEGORY'],\n",
    "        how = 'left'\n",
    "    ).fillna(1).astype({'PATIENT_ID_COUNT': int})"
   ]
  },
  {
   "cell_type": "markdown",
   "id": "bcf5b9fc",
   "metadata": {},
   "source": [
    "# Применяем коэффициенты, для улучшения ответа"
   ]
  },
  {
   "cell_type": "code",
   "execution_count": 4,
   "id": "892ca2fa",
   "metadata": {},
   "outputs": [],
   "source": [
    "test['PATIENT_ID_COUNT'] = test['PATIENT_ID_COUNT'] * 1.19\n",
    "\n",
    "ind = test[(test['PATIENT_ID_COUNT'] > 100) & (test['PATIENT_ID_COUNT'] < 1000)].index\n",
    "test.loc[ind, 'PATIENT_ID_COUNT'] = test.loc[ind,'PATIENT_ID_COUNT'] - 20\n",
    "\n",
    "ind = test[(test['PATIENT_ID_COUNT'] > 1000) & (test['PATIENT_ID_COUNT'] < 2000)].index\n",
    "test.loc[ind, 'PATIENT_ID_COUNT'] = test.loc[ind,'PATIENT_ID_COUNT'] - 115\n",
    "\n",
    "ind = test[(test['PATIENT_ID_COUNT'] > 2000) & (test['PATIENT_ID_COUNT'] < 3000)].index\n",
    "test.loc[ind, 'PATIENT_ID_COUNT'] = test.loc[ind,'PATIENT_ID_COUNT'] - 10\n",
    "\n",
    "ind = test[test['PATIENT_ID_COUNT'] > 3000].index\n",
    "test.loc[ind, 'PATIENT_ID_COUNT'] = test.loc[ind,'PATIENT_ID_COUNT'] + 215\n",
    "\n",
    "test['PATIENT_ID_COUNT'] = np.round(test['PATIENT_ID_COUNT'], 0)"
   ]
  },
  {
   "cell_type": "code",
   "execution_count": 5,
   "id": "c3295d77",
   "metadata": {},
   "outputs": [
    {
     "data": {
      "text/plain": [
       "0.971428"
      ]
     },
     "execution_count": 5,
     "metadata": {},
     "output_type": "execute_result"
    }
   ],
   "source": [
    "0.972378"
   ]
  },
  {
   "cell_type": "markdown",
   "id": "c68cd9ba",
   "metadata": {},
   "source": [
    "# Формирование файла ответа"
   ]
  },
  {
   "cell_type": "code",
   "execution_count": 6,
   "id": "41b45563",
   "metadata": {},
   "outputs": [],
   "source": [
    "test['PATIENT_ID_COUNT'] = test['PATIENT_ID_COUNT'].astype(int)\n",
    "test.to_csv('final.csv', sep = ';', index = None)"
   ]
  },
  {
   "cell_type": "code",
   "execution_count": 7,
   "id": "d5d94085",
   "metadata": {},
   "outputs": [
    {
     "data": {
      "text/plain": [
       "0    5\n",
       "1    1\n",
       "2    1\n",
       "3    4\n",
       "4    1\n",
       "Name: PATIENT_ID_COUNT, dtype: int64"
      ]
     },
     "execution_count": 7,
     "metadata": {},
     "output_type": "execute_result"
    }
   ],
   "source": [
    "test['PATIENT_ID_COUNT'].head()"
   ]
  },
  {
   "cell_type": "code",
   "execution_count": null,
   "id": "a0a036d5",
   "metadata": {},
   "outputs": [],
   "source": []
  },
  {
   "cell_type": "markdown",
   "id": "be4921b6",
   "metadata": {},
   "source": [
    "https://lk.hacks-ai.ru/758260/champ"
   ]
  }
 ],
 "metadata": {
  "kernelspec": {
   "display_name": "Python 3 (ipykernel)",
   "language": "python",
   "name": "python3"
  },
  "language_info": {
   "codemirror_mode": {
    "name": "ipython",
    "version": 3
   },
   "file_extension": ".py",
   "mimetype": "text/x-python",
   "name": "python",
   "nbconvert_exporter": "python",
   "pygments_lexer": "ipython3",
   "version": "3.9.12"
  }
 },
 "nbformat": 4,
 "nbformat_minor": 5
}
